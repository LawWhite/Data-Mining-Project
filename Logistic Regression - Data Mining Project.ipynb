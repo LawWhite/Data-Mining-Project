{
 "cells": [
  {
   "cell_type": "markdown",
   "metadata": {},
   "source": [
    "# Logistic Regression\n",
    "***\n",
    "**Author: Sasha Hall**\n",
    "\n",
    "**Date: December 1, 2020**\n",
    "\n",
    "**CSCI 4502 - Final Project**\n",
    "\n",
    "\n",
    "This notebook is primarily used to create a logistic regression model to predict the profitability and success of various movies. The notebook contains a bit of pre-analysis and cleaning of the data as well as the code necessary to complete the logistic regression model using multiple variables. \n"
   ]
  },
  {
   "cell_type": "code",
   "execution_count": 175,
   "metadata": {},
   "outputs": [],
   "source": [
    "import numpy as np \n",
    "from scipy import stats\n",
    "import pandas as pd\n",
    "import statsmodels.api as sm \n",
    "import seaborn as sn\n",
    "import matplotlib.pylab as plt \n",
    "%matplotlib inline\n",
    "from sklearn.linear_model import LogisticRegression\n",
    "from sklearn.model_selection import train_test_split\n",
    "from imblearn.over_sampling import SMOTE"
   ]
  },
  {
   "cell_type": "markdown",
   "metadata": {},
   "source": [
    "# Importing and Cleaning Dataset\n",
    "***\n",
    "Create a dataframe to hold the dataset titled \"tmdb_movies_data.csv\".\n",
    "\n",
    "Clean the dataset by removing any null or 0 values and drop the columns that do not contain numeric values. These columns are dropped because there are too many unique values in the non-numeric columns that prevent the logistic regression from being able to complete and converge in a given number of iterations.\n",
    "\n",
    "Finally, create a profit column that finds the profit of the movie and then converts the profit into a binary value. The binary values is based on whether the movie had a positive profit or if the movie had a negative profit."
   ]
  },
  {
   "cell_type": "code",
   "execution_count": 176,
   "metadata": {},
   "outputs": [
    {
     "data": {
      "text/html": [
       "<div>\n",
       "<style scoped>\n",
       "    .dataframe tbody tr th:only-of-type {\n",
       "        vertical-align: middle;\n",
       "    }\n",
       "\n",
       "    .dataframe tbody tr th {\n",
       "        vertical-align: top;\n",
       "    }\n",
       "\n",
       "    .dataframe thead th {\n",
       "        text-align: right;\n",
       "    }\n",
       "</style>\n",
       "<table border=\"1\" class=\"dataframe\">\n",
       "  <thead>\n",
       "    <tr style=\"text-align: right;\">\n",
       "      <th></th>\n",
       "      <th>popularity</th>\n",
       "      <th>budget</th>\n",
       "      <th>revenue</th>\n",
       "      <th>runtime</th>\n",
       "      <th>vote_count</th>\n",
       "      <th>vote_average</th>\n",
       "      <th>release_year</th>\n",
       "      <th>profit</th>\n",
       "    </tr>\n",
       "  </thead>\n",
       "  <tbody>\n",
       "    <tr>\n",
       "      <td>0</td>\n",
       "      <td>32.985763</td>\n",
       "      <td>150000000</td>\n",
       "      <td>1513528810</td>\n",
       "      <td>124</td>\n",
       "      <td>5562</td>\n",
       "      <td>6.5</td>\n",
       "      <td>2015</td>\n",
       "      <td>1</td>\n",
       "    </tr>\n",
       "    <tr>\n",
       "      <td>1</td>\n",
       "      <td>28.419936</td>\n",
       "      <td>150000000</td>\n",
       "      <td>378436354</td>\n",
       "      <td>120</td>\n",
       "      <td>6185</td>\n",
       "      <td>7.1</td>\n",
       "      <td>2015</td>\n",
       "      <td>1</td>\n",
       "    </tr>\n",
       "    <tr>\n",
       "      <td>2</td>\n",
       "      <td>13.112507</td>\n",
       "      <td>110000000</td>\n",
       "      <td>295238201</td>\n",
       "      <td>119</td>\n",
       "      <td>2480</td>\n",
       "      <td>6.3</td>\n",
       "      <td>2015</td>\n",
       "      <td>1</td>\n",
       "    </tr>\n",
       "    <tr>\n",
       "      <td>3</td>\n",
       "      <td>11.173104</td>\n",
       "      <td>200000000</td>\n",
       "      <td>2068178225</td>\n",
       "      <td>136</td>\n",
       "      <td>5292</td>\n",
       "      <td>7.5</td>\n",
       "      <td>2015</td>\n",
       "      <td>1</td>\n",
       "    </tr>\n",
       "    <tr>\n",
       "      <td>4</td>\n",
       "      <td>9.335014</td>\n",
       "      <td>190000000</td>\n",
       "      <td>1506249360</td>\n",
       "      <td>137</td>\n",
       "      <td>2947</td>\n",
       "      <td>7.3</td>\n",
       "      <td>2015</td>\n",
       "      <td>1</td>\n",
       "    </tr>\n",
       "  </tbody>\n",
       "</table>\n",
       "</div>"
      ],
      "text/plain": [
       "   popularity     budget     revenue  runtime  vote_count  vote_average  \\\n",
       "0   32.985763  150000000  1513528810      124        5562           6.5   \n",
       "1   28.419936  150000000   378436354      120        6185           7.1   \n",
       "2   13.112507  110000000   295238201      119        2480           6.3   \n",
       "3   11.173104  200000000  2068178225      136        5292           7.5   \n",
       "4    9.335014  190000000  1506249360      137        2947           7.3   \n",
       "\n",
       "   release_year  profit  \n",
       "0          2015       1  \n",
       "1          2015       1  \n",
       "2          2015       1  \n",
       "3          2015       1  \n",
       "4          2015       1  "
      ]
     },
     "execution_count": 176,
     "metadata": {},
     "output_type": "execute_result"
    }
   ],
   "source": [
    "df = pd.read_csv('tmdb_movies_data.csv')\n",
    "df = df[(df[\"budget\"] != 0)]\n",
    "df = df.drop(columns=[\"id\", \"imdb_id\", \"original_title\", \"cast\", \"homepage\", \"tagline\", \"keywords\", \"overview\", \n",
    "                      \"release_date\", \"production_companies\", \"genres\", \"director\", \"revenue_adj\", \"budget_adj\"])\n",
    "df = df[(df[\"revenue\"] != 0)]\n",
    "\n",
    "df = df.dropna()\n",
    "profit = df['revenue'] - df['budget']\n",
    "profit[profit > 0] = 1\n",
    "profit[profit < 0] = 0\n",
    "df[\"profit\"] = profit\n",
    "\n",
    "df.head()"
   ]
  },
  {
   "cell_type": "markdown",
   "metadata": {},
   "source": [
    "# Pre-Analysis\n",
    "***\n",
    "The first step was to look at the remaining variables in the dataset and see how each one correlates to the other variables. And, also look at the mean values for each attribute when grouped by profit. \n",
    "\n",
    "Both of these methods helped identify any relationships in the dataset. For example, it is clear to see that revenue and budget have a strong correlation, and so does popularity and vote count. However, release year and runtime have a weak correlation, and so does release year and vote average. "
   ]
  },
  {
   "cell_type": "code",
   "execution_count": 177,
   "metadata": {
    "scrolled": false
   },
   "outputs": [
    {
     "data": {
      "image/png": "[encoded data removed]",
      "text/plain": [
       "<Figure size 864x648 with 2 Axes>"
      ]
     },
     "metadata": {
      "needs_background": "light"
     },
     "output_type": "display_data"
    }
   ],
   "source": [
    "corrMatrix = df.corr()\n",
    "\n",
    "f = plt.figure(figsize=(12,9))\n",
    "sn.heatmap(corrMatrix, annot=True)\n",
    "plt.show()"
   ]
  },
  {
   "cell_type": "code",
   "execution_count": 178,
   "metadata": {},
   "outputs": [
    {
     "data": {
      "text/html": [
       "<div>\n",
       "<style scoped>\n",
       "    .dataframe tbody tr th:only-of-type {\n",
       "        vertical-align: middle;\n",
       "    }\n",
       "\n",
       "    .dataframe tbody tr th {\n",
       "        vertical-align: top;\n",
       "    }\n",
       "\n",
       "    .dataframe thead th {\n",
       "        text-align: right;\n",
       "    }\n",
       "</style>\n",
       "<table border=\"1\" class=\"dataframe\">\n",
       "  <thead>\n",
       "    <tr style=\"text-align: right;\">\n",
       "      <th></th>\n",
       "      <th>popularity</th>\n",
       "      <th>budget</th>\n",
       "      <th>revenue</th>\n",
       "      <th>runtime</th>\n",
       "      <th>vote_count</th>\n",
       "      <th>vote_average</th>\n",
       "      <th>release_year</th>\n",
       "    </tr>\n",
       "    <tr>\n",
       "      <th>profit</th>\n",
       "      <th></th>\n",
       "      <th></th>\n",
       "      <th></th>\n",
       "      <th></th>\n",
       "      <th></th>\n",
       "      <th></th>\n",
       "      <th></th>\n",
       "    </tr>\n",
       "  </thead>\n",
       "  <tbody>\n",
       "    <tr>\n",
       "      <td>0</td>\n",
       "      <td>0.617900</td>\n",
       "      <td>2.927455e+07</td>\n",
       "      <td>1.516038e+07</td>\n",
       "      <td>106.742804</td>\n",
       "      <td>137.924791</td>\n",
       "      <td>5.844104</td>\n",
       "      <td>2003.038997</td>\n",
       "    </tr>\n",
       "    <tr>\n",
       "      <td>1</td>\n",
       "      <td>1.413739</td>\n",
       "      <td>4.027515e+07</td>\n",
       "      <td>1.435196e+08</td>\n",
       "      <td>110.174586</td>\n",
       "      <td>678.689345</td>\n",
       "      <td>6.293377</td>\n",
       "      <td>2000.574874</td>\n",
       "    </tr>\n",
       "  </tbody>\n",
       "</table>\n",
       "</div>"
      ],
      "text/plain": [
       "        popularity        budget       revenue     runtime  vote_count  \\\n",
       "profit                                                                   \n",
       "0         0.617900  2.927455e+07  1.516038e+07  106.742804  137.924791   \n",
       "1         1.413739  4.027515e+07  1.435196e+08  110.174586  678.689345   \n",
       "\n",
       "        vote_average  release_year  \n",
       "profit                              \n",
       "0           5.844104   2003.038997  \n",
       "1           6.293377   2000.574874  "
      ]
     },
     "execution_count": 178,
     "metadata": {},
     "output_type": "execute_result"
    }
   ],
   "source": [
    "# dfNumericValues = df[[\"popularity\", \"budget\", \"revenue\", \"runtime\", \"vote_count\", \"vote_average\", \"release_year\"]]\n",
    "# dfNumericValues = dfNumericValues.dropna()\n",
    "\n",
    "df.groupby('profit').mean()"
   ]
  },
  {
   "cell_type": "markdown",
   "metadata": {},
   "source": [
    "The next step was seeing how imbalanced the dataset was in the number of movies that were profitable and the ones that were not. The graph below shows that the imbalance was pretty significant, with over 70% of the movies in the dataset being profitable."
   ]
  },
  {
   "cell_type": "code",
   "execution_count": 179,
   "metadata": {},
   "outputs": [
    {
     "name": "stdout",
     "output_type": "stream",
     "text": [
      "Percentage of movies that have a positive profit:  0.7206225680933852\n",
      "Percentage of movies that have a negative profit:  0.2793774319066148\n"
     ]
    },
    {
     "data": {
      "image/png": "[encoded data removed]",
      "text/plain": [
       "<Figure size 432x288 with 1 Axes>"
      ]
     },
     "metadata": {
      "needs_background": "light"
     },
     "output_type": "display_data"
    }
   ],
   "source": [
    "height = [0,0]\n",
    "for i in df[\"profit\"]:\n",
    "    if(i > 0):\n",
    "        height[0]+=1\n",
    "    else:\n",
    "        height[1]+=1\n",
    "        \n",
    "xValues = [0, 1]\n",
    "plt.bar(xValues, height)\n",
    "print(\"Percentage of movies that have a positive profit: \", height[0]/len(df[\"profit\"]))\n",
    "print(\"Percentage of movies that have a negative profit: \", height[1]/len(df[\"profit\"]))"
   ]
  },
  {
   "cell_type": "markdown",
   "metadata": {},
   "source": [
    "In order to remedy that imbalance in the dataset, a sample of the data needed to be taken so that the percentage of profitable to not profitable movies was closer to 50%."
   ]
  },
  {
   "cell_type": "markdown",
   "metadata": {},
   "source": [
    "# Balancing the Dataset\n",
    "***\n",
    "First dummy varibles needed to be created to help identify different movies that had the same variables. This explains why release year was a very prevalent variable because a lot of different movies overlapped on release year."
   ]
  },
  {
   "cell_type": "code",
   "execution_count": 180,
   "metadata": {},
   "outputs": [
    {
     "data": {
      "text/plain": [
       "Index(['runtime', 'profit', 'release_year_1960', 'release_year_1961',\n",
       "       'release_year_1962', 'release_year_1963', 'release_year_1964',\n",
       "       'release_year_1965', 'release_year_1966', 'release_year_1967',\n",
       "       'release_year_1968', 'release_year_1969', 'release_year_1970',\n",
       "       'release_year_1971', 'release_year_1972', 'release_year_1973',\n",
       "       'release_year_1974', 'release_year_1975', 'release_year_1976',\n",
       "       'release_year_1977', 'release_year_1978', 'release_year_1979',\n",
       "       'release_year_1980', 'release_year_1981', 'release_year_1982',\n",
       "       'release_year_1983', 'release_year_1984', 'release_year_1985',\n",
       "       'release_year_1986', 'release_year_1987', 'release_year_1988',\n",
       "       'release_year_1989', 'release_year_1990', 'release_year_1991',\n",
       "       'release_year_1992', 'release_year_1993', 'release_year_1994',\n",
       "       'release_year_1995', 'release_year_1996', 'release_year_1997',\n",
       "       'release_year_1998', 'release_year_1999', 'release_year_2000',\n",
       "       'release_year_2001', 'release_year_2002', 'release_year_2003',\n",
       "       'release_year_2004', 'release_year_2005', 'release_year_2006',\n",
       "       'release_year_2007', 'release_year_2008', 'release_year_2009',\n",
       "       'release_year_2010', 'release_year_2011', 'release_year_2012',\n",
       "       'release_year_2013', 'release_year_2014', 'release_year_2015'],\n",
       "      dtype='object')"
      ]
     },
     "execution_count": 180,
     "metadata": {},
     "output_type": "execute_result"
    }
   ],
   "source": [
    "cat_vars=[\"popularity\", \"budget\", \"revenue\", \"vote_count\", \"vote_average\",\"release_year\"]\n",
    "for var in cat_vars:\n",
    "    cat_list='var'+'_'+var\n",
    "    cat_list = pd.get_dummies(df[var], prefix=var)\n",
    "    data1=df.join(cat_list)\n",
    "    data=data1\n",
    "\n",
    "cat_vars=[\"popularity\", \"budget\", \"revenue\", \"vote_count\", \"vote_average\",\"release_year\"]\n",
    "data_vars=data.columns.values.tolist()\n",
    "to_keep=[i for i in data_vars if i not in cat_vars]\n",
    "\n",
    "data_final=data[to_keep]\n",
    "data_final.columns"
   ]
  },
  {
   "cell_type": "markdown",
   "metadata": {},
   "source": [
    "Then using the oversampling SMOTE method, we are going to balance the data. The way the SMOTE method works is by creating a synthetic version of the data that is choosen at random to create a new dataset."
   ]
  },
  {
   "cell_type": "code",
   "execution_count": 181,
   "metadata": {},
   "outputs": [
    {
     "name": "stdout",
     "output_type": "stream",
     "text": [
      "length of oversampled data is  3886\n",
      "Number of not profitable movies in oversampled data 1943\n",
      "Number of profitable movies 1943\n",
      "Proportion of not profitable movies in oversampled data is  0.5\n",
      "Proportion of profitable movies in oversampled data is  0.5\n"
     ]
    }
   ],
   "source": [
    "X = data_final.loc[:, data_final.columns != 'profit']\n",
    "y = data_final.loc[:, data_final.columns == 'profit']\n",
    "\n",
    "os = SMOTE(random_state=0)\n",
    "X_train, X_test, y_train, y_test = train_test_split(X, y, test_size=0.3, random_state=0)\n",
    "columns = X_train.columns\n",
    "os_data_X,os_data_y=os.fit_sample(X_train, y_train)\n",
    "os_data_X = pd.DataFrame(data=os_data_X,columns=columns )\n",
    "os_data_y= pd.DataFrame(data=os_data_y,columns=['profit'])\n",
    "\n",
    "# we can Check the numbers of our data\n",
    "print(\"length of oversampled data is \",len(os_data_X))\n",
    "print(\"Number of not profitable movies in oversampled data\",len(os_data_y[os_data_y['profit']==0]))\n",
    "print(\"Number of profitable movies\",len(os_data_y[os_data_y['profit']==1]))\n",
    "print(\"Proportion of not profitable movies in oversampled data is \",len(os_data_y[os_data_y['profit']==0])/len(os_data_X))\n",
    "print(\"Proportion of profitable movies in oversampled data is \",len(os_data_y[os_data_y['profit']==1])/len(os_data_X))"
   ]
  },
  {
   "cell_type": "markdown",
   "metadata": {},
   "source": [
    "# Setting Up the Logisitic Regression\n",
    "***\n",
    "The first step to set up the logistic regression was to work through the set of dummy variables created previously. By finding the support and ranking of the variables, you can take out the most important variables (as defined by a high ranking). "
   ]
  },
  {
   "cell_type": "code",
   "execution_count": 182,
   "metadata": {},
   "outputs": [
    {
     "name": "stderr",
     "output_type": "stream",
     "text": [
      "/opt/anaconda3/lib/python3.7/site-packages/sklearn/utils/validation.py:70: FutureWarning: Pass n_features_to_select=20 as keyword args. From version 0.25 passing these as positional arguments will result in an error\n",
      "  FutureWarning)\n",
      "/opt/anaconda3/lib/python3.7/site-packages/sklearn/linear_model/_logistic.py:764: ConvergenceWarning: lbfgs failed to converge (status=1):\n",
      "STOP: TOTAL NO. of ITERATIONS REACHED LIMIT.\n",
      "\n",
      "Increase the number of iterations (max_iter) or scale the data as shown in:\n",
      "    https://scikit-learn.org/stable/modules/preprocessing.html\n",
      "Please also refer to the documentation for alternative solver options:\n",
      "    https://scikit-learn.org/stable/modules/linear_model.html#logistic-regression\n",
      "  extra_warning_msg=_LOGISTIC_SOLVER_CONVERGENCE_MSG)\n"
     ]
    },
    {
     "name": "stdout",
     "output_type": "stream",
     "text": [
      "[False False  True  True False  True False  True  True False False False\n",
      "  True  True  True  True  True  True  True  True False  True  True  True\n",
      " False  True False False  True False  True  True False False False False\n",
      " False False False False False False False False False False False False\n",
      " False False False False False False False False False]\n",
      "[38 35  1  1 34  1 36  1  1 33 37 32  1  1  1  1  1  1  1  1  4  1  1  1\n",
      "  2  1 21 23  1 12  1  1 15  8 20 31  6 28 13 24 19  9 11 25  3 29 16 18\n",
      " 14 27 30 26 10 17 22  5  7]\n"
     ]
    }
   ],
   "source": [
    "data_final_vars=data_final.columns.values.tolist()\n",
    "y=['profit']\n",
    "X=[i for i in data_final_vars if i not in y]\n",
    "from sklearn.feature_selection import RFE\n",
    "from sklearn.linear_model import LogisticRegression\n",
    "logreg = LogisticRegression()\n",
    "rfe = RFE(logreg, 20)\n",
    "rfe = rfe.fit(os_data_X, os_data_y.values.ravel())\n",
    "print(rfe.support_)\n",
    "print(rfe.ranking_)"
   ]
  },
  {
   "cell_type": "code",
   "execution_count": 183,
   "metadata": {},
   "outputs": [
    {
     "name": "stdout",
     "output_type": "stream",
     "text": [
      "['release_year_1960', 'release_year_1961', 'release_year_1963', 'release_year_1965', 'release_year_1966', 'release_year_1970', 'release_year_1971', 'release_year_1972', 'release_year_1973', 'release_year_1974', 'release_year_1975', 'release_year_1976', 'release_year_1977', 'release_year_1979', 'release_year_1980', 'release_year_1981', 'release_year_1983', 'release_year_1986', 'release_year_1988', 'release_year_1989']\n"
     ]
    }
   ],
   "source": [
    "cols = []\n",
    "\n",
    "for i in range(0, len(data_final.columns.values)-1):\n",
    "    if(rfe.ranking_[i] == 1):\n",
    "        cols.append(data_final.columns.values[i])\n",
    "\n",
    "print(cols)"
   ]
  },
  {
   "cell_type": "markdown",
   "metadata": {},
   "source": [
    "Then the first round of logistic regression is run to identify which variables are not as strongly correlated or signficant than others. By looking the p-values, you can identify which variables are significant as long as the p-value is less than 0.05."
   ]
  },
  {
   "cell_type": "code",
   "execution_count": 184,
   "metadata": {},
   "outputs": [
    {
     "name": "stdout",
     "output_type": "stream",
     "text": [
      "Warning: Maximum number of iterations has been exceeded.\n",
      "         Current function value: 0.671486\n",
      "         Iterations: 35\n",
      "         Function evaluations: 39\n",
      "         Gradient evaluations: 39\n",
      "                           Logit Regression Results                           \n",
      "==============================================================================\n",
      "Dep. Variable:                 profit   No. Observations:                 3886\n",
      "Model:                          Logit   Df Residuals:                     3866\n",
      "Method:                           MLE   Df Model:                           19\n",
      "Date:                Tue, 01 Dec 2020   Pseudo R-squ.:                 0.03125\n",
      "Time:                        14:34:49   Log-Likelihood:                -2609.4\n",
      "converged:                      False   LL-Null:                       -2693.6\n",
      "Covariance Type:            nonrobust   LLR p-value:                 5.966e-26\n",
      "=====================================================================================\n",
      "                        coef    std err          z      P>|z|      [0.025      0.975]\n",
      "-------------------------------------------------------------------------------------\n",
      "release_year_1960     1.9397      1.742      1.114      0.265      -1.474       5.353\n",
      "release_year_1961     2.5996      1.393      1.866      0.062      -0.131       5.331\n",
      "release_year_1963     1.9397      1.742      1.114      0.265      -1.474       5.353\n",
      "release_year_1965     1.1786      1.179      1.000      0.317      -1.132       3.489\n",
      "release_year_1966     2.3985      1.809      1.325      0.185      -1.148       5.945\n",
      "release_year_1970     1.0849      0.767      1.414      0.157      -0.419       2.589\n",
      "release_year_1971     3.6672      2.269      1.617      0.106      -0.779       8.113\n",
      "release_year_1972     3.1237      2.032      1.537      0.124      -0.859       7.106\n",
      "release_year_1973     3.8910      2.380      1.635      0.102      -0.774       8.556\n",
      "release_year_1974     4.0904      2.486      1.646      0.100      -0.781       8.962\n",
      "release_year_1975     3.4137      2.152      1.586      0.113      -0.804       7.631\n",
      "release_year_1976     3.6672      2.269      1.617      0.106      -0.779       8.113\n",
      "release_year_1977     3.6395      1.692      2.150      0.032       0.322       6.957\n",
      "release_year_1979     2.1144      1.020      2.073      0.038       0.115       4.114\n",
      "release_year_1980     5.0880      3.107      1.638      0.101      -1.001      11.177\n",
      "release_year_1981     1.5803      0.580      2.725      0.006       0.444       2.717\n",
      "release_year_1983     0.9993      0.481      2.079      0.038       0.057       1.942\n",
      "release_year_1986     0.5340      0.328      1.630      0.103      -0.108       1.176\n",
      "release_year_1988     0.5273      0.312      1.690      0.091      -0.084       1.139\n",
      "release_year_1989     2.2161      0.538      4.121      0.000       1.162       3.270\n",
      "=====================================================================================\n"
     ]
    },
    {
     "name": "stderr",
     "output_type": "stream",
     "text": [
      "/opt/anaconda3/lib/python3.7/site-packages/statsmodels/base/model.py:512: ConvergenceWarning: Maximum Likelihood optimization failed to converge. Check mle_retvals\n",
      "  \"Check mle_retvals\", ConvergenceWarning)\n"
     ]
    }
   ],
   "source": [
    "X=os_data_X[cols]\n",
    "y=os_data_y['profit']\n",
    "\n",
    "logit_model=sm.Logit(y,X)\n",
    "result=logit_model.fit(method='bfgs')\n",
    "print(result.summary())"
   ]
  },
  {
   "cell_type": "markdown",
   "metadata": {},
   "source": [
    "If we look at the variables that have a p-value of less than 0.05, we see that the model is reduced significantly.\n",
    "\n",
    "The remaining variables are: \n",
    " - release_year_1961\n",
    " - release_year_1977 \n",
    " - release_year_1979\n",
    " - release_year_1981\n",
    " - release_year_1983\n",
    " - release_year_1989\n",
    " \n",
    "Then the logistic regression is run again with only the significant variables."
   ]
  },
  {
   "cell_type": "code",
   "execution_count": 185,
   "metadata": {},
   "outputs": [
    {
     "name": "stdout",
     "output_type": "stream",
     "text": [
      "Optimization terminated successfully.\n",
      "         Current function value: 0.684788\n",
      "         Iterations 7\n",
      "                         Results: Logit\n",
      "=================================================================\n",
      "Model:              Logit            Pseudo R-squared: 0.012     \n",
      "Dependent Variable: profit           AIC:              5334.1693 \n",
      "Date:               2020-12-01 14:34 BIC:              5371.7601 \n",
      "No. Observations:   3886             Log-Likelihood:   -2661.1   \n",
      "Df Model:           5                LL-Null:          -2693.6   \n",
      "Df Residuals:       3880             LLR p-value:      1.1366e-12\n",
      "Converged:          1.0000           Scale:            1.0000    \n",
      "No. Iterations:     7.0000                                       \n",
      "-----------------------------------------------------------------\n",
      "                     Coef.  Std.Err.   z    P>|z|   [0.025 0.975]\n",
      "-----------------------------------------------------------------\n",
      "release_year_1961    1.9459   1.0690 1.8202 0.0687 -0.1494 4.0412\n",
      "release_year_1977    2.5649   1.0377 2.4716 0.0134  0.5310 4.5989\n",
      "release_year_1979    1.3863   0.7906 1.7535 0.0795 -0.1632 2.9358\n",
      "release_year_1981    1.4469   0.5557 2.6037 0.0092  0.3577 2.5361\n",
      "release_year_1983    1.2238   0.5087 2.4055 0.0162  0.2266 2.2209\n",
      "release_year_1989    2.1691   0.5278 4.1096 0.0000  1.1346 3.2035\n",
      "=================================================================\n",
      "\n"
     ]
    }
   ],
   "source": [
    "cols=[\"release_year_1961\", \"release_year_1977\", \"release_year_1979\", \"release_year_1981\", \"release_year_1983\", \"release_year_1989\"] \n",
    "X=os_data_X[cols]\n",
    "y=os_data_y['profit']\n",
    "logit_model=sm.Logit(y,X)\n",
    "result=logit_model.fit()\n",
    "print(result.summary2())"
   ]
  },
  {
   "cell_type": "markdown",
   "metadata": {},
   "source": [
    "# Running the Logisitic Regression Model\n",
    "***\n",
    "Now it is time to run the logisitic regression model again a testing dataset we created previously. Once the model is ran, you can see how accurate the model was and also look at the confusion matrix to see the breakdown of correctly versus incorrectly identified movies."
   ]
  },
  {
   "cell_type": "code",
   "execution_count": 186,
   "metadata": {},
   "outputs": [
    {
     "data": {
      "text/plain": [
       "LogisticRegression()"
      ]
     },
     "execution_count": 186,
     "metadata": {},
     "output_type": "execute_result"
    }
   ],
   "source": [
    "from sklearn import metrics\n",
    "X_train, X_test, y_train, y_test = train_test_split(X, y, test_size=0.3, random_state=0)\n",
    "logreg = LogisticRegression()\n",
    "logreg.fit(X_train, y_train)"
   ]
  },
  {
   "cell_type": "code",
   "execution_count": 187,
   "metadata": {},
   "outputs": [
    {
     "name": "stdout",
     "output_type": "stream",
     "text": [
      "Accuracy of logistic regression classifier on test set: 0.53\n"
     ]
    }
   ],
   "source": [
    "y_pred = logreg.predict(X_test)\n",
    "print('Accuracy of logistic regression classifier on test set: {:.2f}'.format(logreg.score(X_test, y_test)))"
   ]
  },
  {
   "cell_type": "code",
   "execution_count": 188,
   "metadata": {},
   "outputs": [
    {
     "name": "stdout",
     "output_type": "stream",
     "text": [
      "[[593   6]\n",
      " [546  21]]\n"
     ]
    }
   ],
   "source": [
    "from sklearn.metrics import confusion_matrix\n",
    "confusion_matrix = confusion_matrix(y_test, y_pred)\n",
    "print(confusion_matrix)"
   ]
  },
  {
   "cell_type": "code",
   "execution_count": null,
   "metadata": {},
   "outputs": [],
   "source": []
  }
 ],
 "metadata": {
  "kernelspec": {
   "display_name": "Python 3",
   "language": "python",
   "name": "python3"
  },
  "language_info": {
   "codemirror_mode": {
    "name": "ipython",
    "version": 3
   },
   "file_extension": ".py",
   "mimetype": "text/x-python",
   "name": "python",
   "nbconvert_exporter": "python",
   "pygments_lexer": "ipython3",
   "version": "3.7.4"
  }
 },
 "nbformat": 4,
 "nbformat_minor": 2
}
